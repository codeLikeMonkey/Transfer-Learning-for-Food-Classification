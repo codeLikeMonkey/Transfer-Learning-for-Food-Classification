{
 "cells": [
  {
   "cell_type": "code",
   "execution_count": 1,
   "metadata": {},
   "outputs": [],
   "source": [
    "import torch\n",
    "from torch.nn import ReLU\n",
    "\n",
    "from misc_functions import (get_params,\n",
    "                            convert_to_grayscale,\n",
    "                            save_gradient_images,\n",
    "                            get_positive_negative_saliency)\n",
    "\n",
    "\n",
    "class GuidedBackprop():\n",
    "    \"\"\"\n",
    "       Produces gradients generated with guided back propagation from the given image\n",
    "    \"\"\"\n",
    "    def __init__(self, model):\n",
    "        self.model = model\n",
    "        self.gradients = None\n",
    "        # Put model in evaluation mode\n",
    "        self.model.eval()\n",
    "        self.update_relus()\n",
    "        self.hook_layers()\n",
    "\n",
    "    def hook_layers(self):\n",
    "        def hook_function(module, grad_in, grad_out):\n",
    "            self.gradients = grad_in[0]\n",
    "\n",
    "        # Register hook to the first layer\n",
    "        first_layer = list(self.model.features._modules.items())[0][1]\n",
    "        first_layer.register_backward_hook(hook_function)\n",
    "\n",
    "    def update_relus(self):\n",
    "        \"\"\"\n",
    "            Updates relu activation functions so that it only returns positive gradients\n",
    "        \"\"\"\n",
    "        def relu_hook_function(module, grad_in, grad_out):\n",
    "            \"\"\"\n",
    "            If there is a negative gradient, changes it to zero\n",
    "            \"\"\"\n",
    "            if isinstance(module, ReLU):\n",
    "                return (torch.clamp(grad_in[0], min=0.0),)\n",
    "        # Loop through layers, hook up ReLUs with relu_hook_function\n",
    "        for pos, module in self.model.features._modules.items():\n",
    "            if isinstance(module, ReLU):\n",
    "                module.register_backward_hook(relu_hook_function)\n",
    "\n",
    "    def generate_gradients(self, input_image, target_class):\n",
    "        # Forward pass\n",
    "        model_output = self.model(input_image)\n",
    "        # Zero gradients\n",
    "        self.model.zero_grad()\n",
    "        # Target for backprop\n",
    "        one_hot_output = torch.FloatTensor(1, model_output.size()[-1]).zero_()\n",
    "        one_hot_output[0][target_class] = 1\n",
    "        # Backward pass\n",
    "        model_output.backward(gradient=one_hot_output)\n",
    "        # Convert Pytorch variable to numpy array\n",
    "        # [0] to get rid of the first channel (1,3,224,224)\n",
    "        gradients_as_arr = self.gradients.data.numpy()[0]\n",
    "        return gradients_as_arr"
   ]
  },
  {
   "cell_type": "code",
   "execution_count": 14,
   "metadata": {},
   "outputs": [
    {
     "name": "stdout",
     "output_type": "stream",
     "text": [
      "Guided backprop completed\n"
     ]
    }
   ],
   "source": [
    "if __name__ == '__main__':\n",
    "    target_example = 11  \n",
    "    (original_image, prep_img, target_class, file_name_to_export, pretrained_model) =\\\n",
    "        get_params(target_example)\n",
    "\n",
    "    # Guided backprop\n",
    "    GBP = GuidedBackprop(pretrained_model)\n",
    "    # Get gradients\n",
    "    guided_grads = GBP.generate_gradients(prep_img, target_class)\n",
    "    # Save colored gradients\n",
    "    save_gradient_images(guided_grads, file_name_to_export + '_Guided_BP_color')\n",
    "    # Convert to grayscale\n",
    "    grayscale_guided_grads = convert_to_grayscale(guided_grads)\n",
    "    # Save grayscale gradients\n",
    "    save_gradient_images(grayscale_guided_grads, file_name_to_export + '_Guided_BP_gray')\n",
    "    # Positive and negative saliency maps\n",
    "    pos_sal, neg_sal = get_positive_negative_saliency(guided_grads)\n",
    "    save_gradient_images(pos_sal, file_name_to_export + '_pos_sal')\n",
    "    save_gradient_images(neg_sal, file_name_to_export + '_neg_sal')\n",
    "    print('Guided backprop completed')\n"
   ]
  },
  {
   "cell_type": "code",
   "execution_count": null,
   "metadata": {},
   "outputs": [],
   "source": []
  }
 ],
 "metadata": {
  "kernelspec": {
   "display_name": "Python 3",
   "language": "python",
   "name": "python3"
  },
  "language_info": {
   "codemirror_mode": {
    "name": "ipython",
    "version": 3
   },
   "file_extension": ".py",
   "mimetype": "text/x-python",
   "name": "python",
   "nbconvert_exporter": "python",
   "pygments_lexer": "ipython3",
   "version": "3.6.4"
  }
 },
 "nbformat": 4,
 "nbformat_minor": 2
}
