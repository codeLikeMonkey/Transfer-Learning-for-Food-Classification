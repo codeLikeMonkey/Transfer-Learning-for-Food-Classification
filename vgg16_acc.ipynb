{
 "cells": [
  {
   "cell_type": "code",
   "execution_count": 1,
   "metadata": {},
   "outputs": [],
   "source": [
    "import torch\n",
    "import torch.nn as nn\n",
    "import torch.nn.functional as F\n",
    "import torch.optim as optim\n",
    "import numpy as np\n",
    "from torch.autograd import Variable\n",
    "\n",
    "import glob\n",
    "import os\n",
    "import matplotlib.pyplot as plt\n",
    "import torchvision.models as models\n",
    "import cv2\n",
    "import pickle\n",
    "import random"
   ]
  },
  {
   "cell_type": "code",
   "execution_count": 2,
   "metadata": {},
   "outputs": [],
   "source": [
    "class Classifier(nn.Module):\n",
    "    def __init__(self, input_size, hidden_layers, output_size):\n",
    "        super(Classifier, self).__init__()\n",
    "        self.fc1 = nn.Linear(input_size, hidden_layers)\n",
    "        self.fc2 = nn.Linear(hidden_layers, hidden_layers)\n",
    "        self.fc3 = nn.Linear(hidden_layers, output_size)\n",
    "    \n",
    "    def forward(self,data):\n",
    "        x = F.tanh(self.fc1(data))\n",
    "        x = F.tanh(self.fc2(x))\n",
    "        x = self.fc3(x)\n",
    "        return F.softmax(x,dim = 1)\n",
    "        "
   ]
  },
  {
   "cell_type": "code",
   "execution_count": 3,
   "metadata": {},
   "outputs": [],
   "source": [
    "def label2onehot(label_id):\n",
    "    vector = np.zeros(101)\n",
    "    vector[label_id] = 1\n",
    "    return vector\n",
    "\n",
    "def onehot2label(vector):\n",
    "    return np.argmax(vector)"
   ]
  },
  {
   "cell_type": "code",
   "execution_count": 4,
   "metadata": {},
   "outputs": [],
   "source": [
    "def chunk(data,batch_size):\n",
    "    batches = []\n",
    "    x = np.arange(len(data) // batch_size + 2)*batch_size\n",
    "#     print(x)\n",
    "    for b,e in zip(x[0:-1],x[1:]):\n",
    "        batches.append(data[b:e])\n",
    "    return batches    "
   ]
  },
  {
   "cell_type": "code",
   "execution_count": 5,
   "metadata": {},
   "outputs": [],
   "source": [
    "def encode_batch(minibatch):\n",
    "    label_batch = []\n",
    "    feature_batch_vector = []\n",
    "    for label, feature in minibatch:\n",
    "        label_batch.append(label)\n",
    "        feature_batch_vector.append(feature.squeeze())\n",
    "    return np.array(label_batch), np.array(feature_batch_vector)\n",
    "    "
   ]
  },
  {
   "cell_type": "code",
   "execution_count": 6,
   "metadata": {},
   "outputs": [],
   "source": [
    "def validate(test_data,net):\n",
    "    correct = 0\n",
    "    for label, feature in test_data:\n",
    "        x = Variable(torch.FloatTensor(feature)).cuda()\n",
    "        output = net(x)\n",
    "        if onehot2label(output.cpu().data.numpy()) == label:\n",
    "            correct += 1\n",
    "    return correct / len(test_data)\n",
    "        \n",
    "        "
   ]
  },
  {
   "cell_type": "code",
   "execution_count": 7,
   "metadata": {},
   "outputs": [],
   "source": [
    "with open(\"training_data.pkl\",\"rb\") as f:\n",
    "    training_data = pickle.load(f)\n",
    "    random.shuffle(training_data)\n",
    "    \n",
    "with open(\"test_data.pkl\",\"rb\") as f:\n",
    "    test_data = pickle.load(f)"
   ]
  },
  {
   "cell_type": "code",
   "execution_count": 9,
   "metadata": {},
   "outputs": [],
   "source": [
    "training_batches = chunk(training_data,128)"
   ]
  },
  {
   "cell_type": "code",
   "execution_count": 13,
   "metadata": {},
   "outputs": [
    {
     "name": "stdout",
     "output_type": "stream",
     "text": [
      "ep[0]\t training acc: 0.338350\t test acc: 0.343446\n",
      "ep[1]\t training acc: 0.398801\t test acc: 0.394178\n",
      "ep[2]\t training acc: 0.425245\t test acc: 0.407089\n",
      "ep[3]\t training acc: 0.442711\t test acc: 0.412594\n",
      "ep[4]\t training acc: 0.461470\t test acc: 0.420911\n",
      "ep[5]\t training acc: 0.475808\t test acc: 0.425743\n",
      "ep[6]\t training acc: 0.491689\t test acc: 0.432079\n",
      "ep[7]\t training acc: 0.504060\t test acc: 0.435881\n",
      "ep[8]\t training acc: 0.518766\t test acc: 0.440198\n",
      "ep[9]\t training acc: 0.523651\t test acc: 0.442535\n",
      "ep[10]\t training acc: 0.529711\t test acc: 0.444792\n",
      "ep[11]\t training acc: 0.535599\t test acc: 0.442970\n",
      "ep[12]\t training acc: 0.546556\t test acc: 0.446337\n",
      "ep[13]\t training acc: 0.559296\t test acc: 0.452752\n",
      "ep[14]\t training acc: 0.565224\t test acc: 0.450970\n",
      "ep[15]\t training acc: 0.568867\t test acc: 0.453228\n",
      "ep[16]\t training acc: 0.575904\t test acc: 0.453980\n",
      "ep[17]\t training acc: 0.582941\t test acc: 0.456079\n",
      "ep[18]\t training acc: 0.591390\t test acc: 0.458535\n",
      "ep[19]\t training acc: 0.593555\t test acc: 0.457228\n",
      "ep[20]\t training acc: 0.601450\t test acc: 0.459485\n",
      "ep[21]\t training acc: 0.611668\t test acc: 0.464000\n",
      "ep[22]\t training acc: 0.618612\t test acc: 0.464277\n",
      "ep[23]\t training acc: 0.622810\t test acc: 0.467525\n",
      "ep[24]\t training acc: 0.627220\t test acc: 0.467564\n",
      "ep[25]\t training acc: 0.631101\t test acc: 0.468317\n",
      "ep[26]\t training acc: 0.635392\t test acc: 0.468634\n",
      "ep[27]\t training acc: 0.633820\t test acc: 0.466059\n",
      "ep[28]\t training acc: 0.644065\t test acc: 0.473703\n",
      "ep[29]\t training acc: 0.648699\t test acc: 0.472356\n",
      "ep[30]\t training acc: 0.653135\t test acc: 0.476000\n",
      "ep[31]\t training acc: 0.655485\t test acc: 0.473624\n",
      "ep[32]\t training acc: 0.659458\t test acc: 0.473584\n",
      "ep[33]\t training acc: 0.661544\t test acc: 0.473822\n",
      "ep[34]\t training acc: 0.666640\t test acc: 0.475168\n",
      "ep[35]\t training acc: 0.669597\t test acc: 0.476119\n",
      "ep[36]\t training acc: 0.672225\t test acc: 0.476436\n",
      "ep[37]\t training acc: 0.676000\t test acc: 0.481584\n",
      "ep[38]\t training acc: 0.676621\t test acc: 0.477069\n",
      "ep[39]\t training acc: 0.678786\t test acc: 0.476238\n",
      "ep[40]\t training acc: 0.682126\t test acc: 0.480436\n",
      "ep[41]\t training acc: 0.683156\t test acc: 0.477069\n",
      "ep[42]\t training acc: 0.685664\t test acc: 0.479644\n",
      "ep[43]\t training acc: 0.686390\t test acc: 0.478337\n",
      "ep[44]\t training acc: 0.690430\t test acc: 0.478851\n",
      "ep[45]\t training acc: 0.694060\t test acc: 0.480317\n",
      "ep[46]\t training acc: 0.697770\t test acc: 0.482376\n",
      "ep[47]\t training acc: 0.701018\t test acc: 0.482218\n",
      "ep[48]\t training acc: 0.704371\t test acc: 0.482178\n",
      "ep[49]\t training acc: 0.707025\t test acc: 0.484000\n",
      "ep[50]\t training acc: 0.710761\t test acc: 0.482693\n",
      "ep[51]\t training acc: 0.714193\t test acc: 0.485188\n",
      "ep[52]\t training acc: 0.717322\t test acc: 0.489941\n",
      "ep[53]\t training acc: 0.717428\t test acc: 0.485069\n",
      "ep[54]\t training acc: 0.720847\t test acc: 0.487525\n",
      "ep[55]\t training acc: 0.721850\t test acc: 0.488396\n",
      "ep[56]\t training acc: 0.724042\t test acc: 0.488911\n",
      "ep[57]\t training acc: 0.726999\t test acc: 0.487921\n",
      "ep[58]\t training acc: 0.726484\t test acc: 0.482178\n",
      "ep[59]\t training acc: 0.731224\t test acc: 0.491327\n",
      "ep[60]\t training acc: 0.731791\t test acc: 0.486218\n",
      "ep[61]\t training acc: 0.733732\t test acc: 0.488634\n",
      "ep[62]\t training acc: 0.735026\t test acc: 0.489743\n",
      "ep[63]\t training acc: 0.735897\t test acc: 0.489069\n",
      "ep[64]\t training acc: 0.736874\t test acc: 0.487921\n",
      "ep[65]\t training acc: 0.736808\t test acc: 0.491644\n",
      "ep[66]\t training acc: 0.739818\t test acc: 0.491960\n",
      "ep[67]\t training acc: 0.740848\t test acc: 0.493030\n",
      "ep[68]\t training acc: 0.741482\t test acc: 0.491366\n",
      "ep[69]\t training acc: 0.744043\t test acc: 0.489307\n",
      "ep[70]\t training acc: 0.745152\t test acc: 0.490574\n",
      "ep[71]\t training acc: 0.745891\t test acc: 0.489861\n",
      "ep[72]\t training acc: 0.747686\t test acc: 0.490733\n",
      "ep[73]\t training acc: 0.747686\t test acc: 0.489347\n",
      "ep[74]\t training acc: 0.750314\t test acc: 0.492317\n",
      "ep[75]\t training acc: 0.751304\t test acc: 0.491089\n",
      "ep[76]\t training acc: 0.751211\t test acc: 0.489782\n",
      "ep[77]\t training acc: 0.751805\t test acc: 0.488040\n",
      "ep[78]\t training acc: 0.753060\t test acc: 0.487366\n",
      "ep[79]\t training acc: 0.754789\t test acc: 0.491525\n",
      "ep[80]\t training acc: 0.755013\t test acc: 0.490812\n",
      "ep[81]\t training acc: 0.755990\t test acc: 0.489030\n",
      "ep[82]\t training acc: 0.755528\t test acc: 0.490178\n",
      "ep[83]\t training acc: 0.757403\t test acc: 0.491564\n",
      "ep[84]\t training acc: 0.756452\t test acc: 0.488238\n",
      "ep[85]\t training acc: 0.758723\t test acc: 0.492277\n",
      "ep[86]\t training acc: 0.758921\t test acc: 0.487287\n",
      "ep[87]\t training acc: 0.759700\t test acc: 0.491168\n",
      "ep[88]\t training acc: 0.760109\t test acc: 0.489782\n",
      "ep[89]\t training acc: 0.760571\t test acc: 0.488040\n",
      "ep[90]\t training acc: 0.761179\t test acc: 0.485426\n",
      "ep[91]\t training acc: 0.761812\t test acc: 0.490851\n",
      "ep[92]\t training acc: 0.762552\t test acc: 0.493149\n",
      "ep[93]\t training acc: 0.762974\t test acc: 0.488396\n",
      "ep[94]\t training acc: 0.762116\t test acc: 0.485663\n",
      "ep[95]\t training acc: 0.763832\t test acc: 0.492317\n",
      "ep[96]\t training acc: 0.764690\t test acc: 0.491604\n",
      "ep[97]\t training acc: 0.764453\t test acc: 0.485228\n",
      "ep[98]\t training acc: 0.765575\t test acc: 0.492079\n",
      "ep[99]\t training acc: 0.765694\t test acc: 0.490257\n"
     ]
    }
   ],
   "source": [
    "net = Classifier(4096,2048,101)\n",
    "learning_rate = 0.0001\n",
    "optimizer = optim.Adam(net.parameters(), lr=learning_rate )\n",
    "loss = nn.CrossEntropyLoss()\n",
    "net.train()\n",
    "net.cuda()\n",
    "max_epoch = 100\n",
    "test_acc = []\n",
    "train_acc = []\n",
    "test_loss = []\n",
    "train_loss = []\n",
    "for ep in range(max_epoch):\n",
    "    err_sum = 0 \n",
    "    for minibatch in training_batches:\n",
    "        feature_label, feature_vector = encode_batch(minibatch)\n",
    "        feature_tensor = Variable(torch.FloatTensor(feature_vector)).cuda()\n",
    "        feature_label = Variable(torch.LongTensor(feature_label)).cuda()\n",
    "        output = net(feature_tensor)\n",
    "        error = loss(output, feature_label)\n",
    "        err_sum += error\n",
    "        optimizer.zero_grad()\n",
    "        error.backward()\n",
    "        optimizer.step()\n",
    "    avg_err = err_sum.cpu().data.numpy()/ len(minibatch)\n",
    "    test_acc.append(validate(test_data,net))\n",
    "    train_acc.append(validate(training_data,net))\n",
    "    print(\"ep[%d]\\t training acc: %f\\t test acc: %f\"%(ep, train_acc[-1], test_acc[-1]))"
   ]
  },
  {
   "cell_type": "code",
   "execution_count": 14,
   "metadata": {},
   "outputs": [],
   "source": [
    "import matplotlib.pyplot as plt\n",
    "import numpy as np"
   ]
  },
  {
   "cell_type": "code",
   "execution_count": 19,
   "metadata": {},
   "outputs": [
    {
     "data": {
      "image/png": "[encoded data removed]",
      "text/plain": [
       "<Figure size 432x288 with 1 Axes>"
      ]
     },
     "metadata": {},
     "output_type": "display_data"
    }
   ],
   "source": [
    "plt.plot(np.array(train_acc))\n",
    "plt.plot(np.array(test_acc))\n",
    "plt.grid()\n",
    "plt.xlabel(\"Epoch\")\n",
    "plt.ylabel(\"Accuracy\")\n",
    "plt.legend([\"Train\",\"Test\"])\n",
    "plt.show()"
   ]
  },
  {
   "cell_type": "code",
   "execution_count": 23,
   "metadata": {},
   "outputs": [
    {
     "data": {
      "text/plain": [
       "100997"
      ]
     },
     "execution_count": 23,
     "metadata": {},
     "output_type": "execute_result"
    }
   ],
   "source": [
    "len(training_data)  + len(test_data) "
   ]
  }
 ],
 "metadata": {
  "kernelspec": {
   "display_name": "Python 3",
   "language": "python",
   "name": "python3"
  },
  "language_info": {
   "codemirror_mode": {
    "name": "ipython",
    "version": 3
   },
   "file_extension": ".py",
   "mimetype": "text/x-python",
   "name": "python",
   "nbconvert_exporter": "python",
   "pygments_lexer": "ipython3",
   "version": "3.6.4"
  }
 },
 "nbformat": 4,
 "nbformat_minor": 2
}
