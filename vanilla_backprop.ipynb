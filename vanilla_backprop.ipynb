{
 "cells": [
  {
   "cell_type": "code",
   "execution_count": 2,
   "metadata": {},
   "outputs": [],
   "source": [
    "import torch\n",
    "\n",
    "from misc_functions import get_params, convert_to_grayscale, save_gradient_images\n",
    "\n",
    "\n",
    "class VanillaBackprop():\n",
    "    \"\"\"\n",
    "        Produces gradients generated with vanilla back propagation from the image\n",
    "    \"\"\"\n",
    "    def __init__(self, model):\n",
    "        self.model = model\n",
    "        self.gradients = None\n",
    "        # Put model in evaluation mode\n",
    "        self.model.eval()\n",
    "        # Hook the first layer to get the gradient\n",
    "        self.hook_layers()\n",
    "\n",
    "    def hook_layers(self):\n",
    "        def hook_function(module, grad_in, grad_out):\n",
    "            self.gradients = grad_in[0]\n",
    "\n",
    "        # Register hook to the first layer\n",
    "        first_layer = list(self.model.features._modules.items())[0][1]\n",
    "        first_layer.register_backward_hook(hook_function)\n",
    "\n",
    "    def generate_gradients(self, input_image, target_class):\n",
    "        # Forward\n",
    "        model_output = self.model(input_image)\n",
    "        # Zero grads\n",
    "        self.model.zero_grad()\n",
    "        # Target for backprop\n",
    "        one_hot_output = torch.FloatTensor(1, model_output.size()[-1]).zero_()\n",
    "        one_hot_output[0][target_class] = 1\n",
    "        # Backward pass\n",
    "        model_output.backward(gradient=one_hot_output)\n",
    "        # Convert Pytorch variable to numpy array\n",
    "        # [0] to get rid of the first channel (1,3,224,224)\n",
    "        gradients_as_arr = self.gradients.data.numpy()[0]\n",
    "        return gradients_as_arr"
   ]
  },
  {
   "cell_type": "code",
   "execution_count": 12,
   "metadata": {},
   "outputs": [
    {
     "name": "stdout",
     "output_type": "stream",
     "text": [
      "Vanilla backprop completed\n"
     ]
    }
   ],
   "source": [
    "if __name__ == '__main__':\n",
    "    # Get params\n",
    "    target_example = 11  # Snake\n",
    "    (original_image, prep_img, target_class, file_name_to_export, pretrained_model) =\\\n",
    "        get_params(target_example)\n",
    "    # Vanilla backprop\n",
    "    VBP = VanillaBackprop(pretrained_model)\n",
    "    # Generate gradients\n",
    "    vanilla_grads = VBP.generate_gradients(prep_img, target_class)\n",
    "    # Save colored gradients\n",
    "    save_gradient_images(vanilla_grads, file_name_to_export + '_Vanilla_BP_color')\n",
    "    # Convert to grayscale\n",
    "    grayscale_vanilla_grads = convert_to_grayscale(vanilla_grads)\n",
    "    # Save grayscale gradients\n",
    "    save_gradient_images(grayscale_vanilla_grads, file_name_to_export + '_Vanilla_BP_gray')\n",
    "    print('Vanilla backprop completed')"
   ]
  },
  {
   "cell_type": "code",
   "execution_count": null,
   "metadata": {},
   "outputs": [],
   "source": []
  }
 ],
 "metadata": {
  "kernelspec": {
   "display_name": "Python 3",
   "language": "python",
   "name": "python3"
  },
  "language_info": {
   "codemirror_mode": {
    "name": "ipython",
    "version": 3
   },
   "file_extension": ".py",
   "mimetype": "text/x-python",
   "name": "python",
   "nbconvert_exporter": "python",
   "pygments_lexer": "ipython3",
   "version": "3.6.4"
  }
 },
 "nbformat": 4,
 "nbformat_minor": 2
}
